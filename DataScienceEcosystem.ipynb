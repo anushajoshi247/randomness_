{
 "cells": [
  {
   "cell_type": "markdown",
   "id": "aaf6d0c1-6ebd-4bc0-9a13-6c638600932c",
   "metadata": {
    "panel-layout": {
     "height": 51.13541793823242,
     "visible": true,
     "width": 100
    }
   },
   "source": [
    "# Data Science Tools and Ecosystem  \n"
   ]
  },
  {
   "cell_type": "markdown",
   "id": "6879b49b-972c-4179-b9ec-f0f2177c2f9c",
   "metadata": {},
   "source": [
    "In this notebook, Data Science Tools and Ecosystem are summarized"
   ]
  },
  {
   "cell_type": "markdown",
   "id": "f21f3ebe-b510-480e-85cc-69ba75c3f821",
   "metadata": {},
   "source": [
    "Some of the Popular Languages that Data Scientists use are:\n",
    "1. Python\n",
    "2. R\n",
    "3. SQL\n",
    "4. Java"
   ]
  },
  {
   "cell_type": "markdown",
   "id": "58517fab-962d-4b4d-9229-c8163b1cbd08",
   "metadata": {},
   "source": [
    "Some of the commonly used libraries used by Data Scientists include:\n",
    "1. Numpy\n",
    "2. Pandas\n",
    "3. SciPy\n",
    "4. Matplotlib\n",
    "5. Keras\n",
    "6. Scikit Learn\n"
   ]
  },
  {
   "cell_type": "markdown",
   "id": "e4ba4421-90ae-4c13-88d2-5615f12eb485",
   "metadata": {},
   "source": [
    "|Data Science Tools|\n",
    "|---|\n",
    "|SAS|\n",
    "|Hadoop|\n",
    "|TensorFlow|\n"
   ]
  },
  {
   "cell_type": "markdown",
   "id": "04331496-537a-4d1e-a4df-93997eb17f6d",
   "metadata": {},
   "source": [
    "### Below are a few examples of evaluating arithmetic expressions in Python"
   ]
  },
  {
   "cell_type": "code",
   "execution_count": 2,
   "id": "fa44fa0f-f7e8-411f-97a2-02677ed2033e",
   "metadata": {},
   "outputs": [
    {
     "data": {
      "text/plain": [
       "17"
      ]
     },
     "execution_count": 2,
     "metadata": {},
     "output_type": "execute_result"
    }
   ],
   "source": [
    "# This a simple arithmetic expression to mutiply then add integers\n",
    "(3*4)+5"
   ]
  },
  {
   "cell_type": "code",
   "execution_count": 3,
   "id": "de2aa7d6-bdcd-4efe-91f3-9b9ba000403d",
   "metadata": {},
   "outputs": [
    {
     "data": {
      "text/plain": [
       "3.3333333333333335"
      ]
     },
     "execution_count": 3,
     "metadata": {},
     "output_type": "execute_result"
    }
   ],
   "source": [
    "# This will convert 200 minutes to hours by diving by 60\n",
    "200/60"
   ]
  },
  {
   "cell_type": "markdown",
   "id": "85f8fc10-c906-4727-89e0-d941964f978f",
   "metadata": {},
   "source": [
    "__Objectives__\n",
    "* List popular languages for Data Science\n",
    "* Popular libraries for Data Science\n",
    "* Data Science tools\n"
   ]
  },
  {
   "cell_type": "markdown",
   "id": "ad22a4d7-141f-4a4c-92bf-bc1cc7cc8883",
   "metadata": {},
   "source": [
    "## Author\n",
    "Anusha Joshi"
   ]
  },
  {
   "cell_type": "code",
   "execution_count": null,
   "id": "426017ff-b31c-4c41-915a-b54b3836c3e6",
   "metadata": {},
   "outputs": [],
   "source": [
    " "
   ]
  }
 ],
 "metadata": {
  "kernelspec": {
   "display_name": "Python 3 (ipykernel)",
   "language": "python",
   "name": "python3"
  },
  "language_info": {
   "codemirror_mode": {
    "name": "ipython",
    "version": 3
   },
   "file_extension": ".py",
   "mimetype": "text/x-python",
   "name": "python",
   "nbconvert_exporter": "python",
   "pygments_lexer": "ipython3",
   "version": "3.12.7"
  },
  "panel-cell-order": [
   "aaf6d0c1-6ebd-4bc0-9a13-6c638600932c"
  ]
 },
 "nbformat": 4,
 "nbformat_minor": 5
}
